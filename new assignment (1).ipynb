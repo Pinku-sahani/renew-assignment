{
 "cells": [
  {
   "cell_type": "markdown",
   "id": "855f60f0-9b10-479c-87eb-0345e5d16e15",
   "metadata": {},
   "source": [
    "Q1. Explain with an example each when to use a for loop and a while loop."
   ]
  },
  {
   "cell_type": "code",
   "execution_count": 1,
   "id": "4faafffa-ea4f-48bf-a38c-6f2803cf446e",
   "metadata": {},
   "outputs": [
    {
     "name": "stdout",
     "output_type": "stream",
     "text": [
      "1\n",
      "2\n",
      "3\n",
      "4\n",
      "5\n",
      "5\n",
      "1\n",
      "2\n",
      "3\n",
      "4\n"
     ]
    }
   ],
   "source": [
    "# for loop \n",
    "# Use for loop\n",
    "# for loop basically used for print the element to continuos like i have a data if data is store a list so use for loop to easly store to data in a list\n",
    "# For Example\n",
    "# 2 example\n",
    "\n",
    "# 1.example\n",
    "p = [ 1,2,3,4,5,5,1,2,3,4]\n",
    "for z in p:\n",
    "    print(z)\n",
    "        \n"
   ]
  },
  {
   "cell_type": "code",
   "execution_count": 12,
   "id": "37056e1b-376d-4f51-b8eb-d55bc4f54025",
   "metadata": {},
   "outputs": [
    {
     "name": "stdout",
     "output_type": "stream",
     "text": [
      "1\n",
      "2\n",
      "3\n",
      "4\n",
      "5\n"
     ]
    }
   ],
   "source": [
    "# 2. exapmle\n",
    "l=[1,2,3,4,5]\n",
    "l1=[]\n",
    "for i in l:\n",
    "    print(i)\n",
    "    l1.append(i)"
   ]
  },
  {
   "cell_type": "code",
   "execution_count": 14,
   "id": "e8c14590-80c9-4f7c-81d3-c12f1de4ecf2",
   "metadata": {},
   "outputs": [
    {
     "data": {
      "text/plain": [
       "[1, 2, 3, 4, 5]"
      ]
     },
     "execution_count": 14,
     "metadata": {},
     "output_type": "execute_result"
    }
   ],
   "source": [
    "l"
   ]
  },
  {
   "cell_type": "code",
   "execution_count": 15,
   "id": "83afe7ea-0d94-4285-9243-3101017de175",
   "metadata": {},
   "outputs": [
    {
     "data": {
      "text/plain": [
       "[1, 2, 3, 4, 5]"
      ]
     },
     "execution_count": 15,
     "metadata": {},
     "output_type": "execute_result"
    }
   ],
   "source": [
    "l1"
   ]
  },
  {
   "cell_type": "markdown",
   "id": "44252e0e-90e1-4c36-a427-68df115cf624",
   "metadata": {},
   "source": [
    "Q2. Write a python program to print the sum and product of the first 10 natural numbers using for\n",
    "and while loop."
   ]
  },
  {
   "cell_type": "code",
   "execution_count": 16,
   "id": "a4364805-2ae7-460b-bee6-337601fc4c7c",
   "metadata": {},
   "outputs": [],
   "source": [
    "# print sum of first 10 natural number using for loop\n"
   ]
  },
  {
   "cell_type": "code",
   "execution_count": 17,
   "id": "c9d62a51-052d-443a-8a12-72ff5260d9d8",
   "metadata": {},
   "outputs": [
    {
     "data": {
      "text/plain": [
       "55"
      ]
     },
     "execution_count": 17,
     "metadata": {},
     "output_type": "execute_result"
    }
   ],
   "source": [
    "\n",
    "l = [1,2,3,4,5,6,7,8,9,10]\n",
    "result = 0\n",
    "for i in l:\n",
    "    result = result+i\n",
    "result"
   ]
  },
  {
   "cell_type": "code",
   "execution_count": 18,
   "id": "de5ce815-09f7-4d44-8201-60b2090d5db9",
   "metadata": {},
   "outputs": [],
   "source": [
    "# print product of first 10 natural number using for loop"
   ]
  },
  {
   "cell_type": "code",
   "execution_count": 21,
   "id": "74ab72c6-fe1f-4108-b642-7cd6fa5d7c4c",
   "metadata": {},
   "outputs": [
    {
     "data": {
      "text/plain": [
       "3628800"
      ]
     },
     "execution_count": 21,
     "metadata": {},
     "output_type": "execute_result"
    }
   ],
   "source": [
    "\n",
    "l = [1,2,3,4,5,6,7,8,9,10]\n",
    "result = 1\n",
    "for i in l:\n",
    "    result = result*i\n",
    "result"
   ]
  },
  {
   "cell_type": "code",
   "execution_count": 22,
   "id": "5281bb09-adff-4066-b705-3c334098a42e",
   "metadata": {},
   "outputs": [],
   "source": [
    "# print sum of first 10 natural number using while loop"
   ]
  },
  {
   "cell_type": "code",
   "execution_count": 26,
   "id": "824959be-d915-4f96-a5c4-33316b4f7341",
   "metadata": {},
   "outputs": [
    {
     "data": {
      "text/plain": [
       "55"
      ]
     },
     "execution_count": 26,
     "metadata": {},
     "output_type": "execute_result"
    }
   ],
   "source": [
    "count = 1\n",
    "result = 0\n",
    "while count <= 10:\n",
    "    result = result+count\n",
    "    count = count+1\n",
    "result"
   ]
  },
  {
   "cell_type": "code",
   "execution_count": 27,
   "id": "eb78d48e-3834-4d0b-93c5-c6f6f6531d98",
   "metadata": {},
   "outputs": [],
   "source": [
    "# print prodect of first 10 natural number sng while loop"
   ]
  },
  {
   "cell_type": "code",
   "execution_count": 3,
   "id": "f9433acf-2b43-4c7e-903d-4f48f1b59d30",
   "metadata": {},
   "outputs": [
    {
     "data": {
      "text/plain": [
       "3628800"
      ]
     },
     "execution_count": 3,
     "metadata": {},
     "output_type": "execute_result"
    }
   ],
   "source": [
    "count = 1\n",
    "result = 1\n",
    "while count <= 10:\n",
    "    result = result*count\n",
    "    count = count+1\n",
    "result"
   ]
  },
  {
   "cell_type": "markdown",
   "id": "156abe6c-2362-4786-bd6c-cdea802045c3",
   "metadata": {},
   "source": [
    "Q3. Create a python program to compute the electricity bill for a household.\n",
    "\n",
    "\n",
    "The per-unit charges in rupees are as follows: For the first 100 units, the user will be charged Rs. 4.5 per\n",
    "unit, for the next 100 units, the user will be charged Rs. 6 per unit, and for the next 100 units, the user will\n",
    "be charged Rs. 10 per unit, After 300 units and above the user will be charged Rs. 20 per unit.\n",
    "You are required to take the units of electricity consumed in a month from the user as input.\n",
    "Your program must pass this test case: when the unit of electricity consumed by the user in a month is\n",
    "310, the total electricity bill should be 2250."
   ]
  },
  {
   "cell_type": "code",
   "execution_count": 10,
   "id": "1a0645ac-f863-4a0b-87f3-bafbf03ceaf4",
   "metadata": {},
   "outputs": [
    {
     "name": "stdin",
     "output_type": "stream",
     "text": [
      "enter your unit to find electricity bill 310\n"
     ]
    },
    {
     "name": "stdout",
     "output_type": "stream",
     "text": [
      "your electricity bill is  6200\n"
     ]
    }
   ],
   "source": [
    "unit = int(input(\"enter your unit to find electricity bill\"))\n",
    "if unit <=100:\n",
    "    print(\"your electricity bill is \",unit*4.5)\n",
    "elif unit >100 and unit <=200:\n",
    "    print(\"your electricity bill is \",unit*6)\n",
    "elif unit >200 and unit <=300:\n",
    "    print(\"your electricity bill is \",unit*10)\n",
    "else:\n",
    "     print(\"your electricity bill is \",unit*20)"
   ]
  },
  {
   "cell_type": "markdown",
   "id": "30ec8d3c-540e-4204-a556-87dc80c22a8e",
   "metadata": {},
   "source": [
    "Q4. Create a list of numbers from 1 to 100. Use for loop and while loop to calculate the cube of each\n",
    "number and if the cube of that number is divisible by 4 or 5 then append that number in a list and print\n",
    "that list."
   ]
  },
  {
   "cell_type": "code",
   "execution_count": 31,
   "id": "94c15252-b0e1-4d7d-ba17-fcd2ddd8c943",
   "metadata": {},
   "outputs": [
    {
     "name": "stdout",
     "output_type": "stream",
     "text": [
      "1\n",
      "8\n",
      "27\n",
      "64\n",
      "4\n",
      "125\n",
      "5\n",
      "216\n",
      "343\n",
      "512\n",
      "8\n",
      "729\n",
      "1000\n",
      "10\n",
      "1331\n",
      "1728\n",
      "12\n",
      "2197\n",
      "2744\n",
      "3375\n",
      "15\n",
      "4096\n",
      "16\n",
      "4913\n",
      "5832\n",
      "6859\n",
      "8000\n",
      "20\n",
      "20\n",
      "9261\n",
      "10648\n",
      "12167\n",
      "13824\n",
      "24\n",
      "15625\n",
      "25\n",
      "17576\n",
      "19683\n",
      "21952\n",
      "28\n",
      "24389\n",
      "27000\n",
      "30\n",
      "29791\n",
      "32768\n",
      "32\n",
      "35937\n",
      "39304\n",
      "42875\n",
      "35\n",
      "46656\n",
      "36\n",
      "50653\n",
      "54872\n",
      "59319\n",
      "64000\n",
      "40\n",
      "40\n",
      "68921\n",
      "74088\n",
      "79507\n",
      "85184\n",
      "44\n",
      "91125\n",
      "45\n",
      "97336\n",
      "103823\n",
      "110592\n",
      "48\n",
      "117649\n",
      "125000\n",
      "50\n",
      "132651\n",
      "140608\n",
      "52\n",
      "148877\n",
      "157464\n",
      "166375\n",
      "55\n",
      "175616\n",
      "56\n",
      "185193\n",
      "195112\n",
      "205379\n",
      "216000\n",
      "60\n",
      "60\n",
      "226981\n",
      "238328\n",
      "250047\n",
      "262144\n",
      "64\n",
      "274625\n",
      "65\n",
      "287496\n",
      "300763\n",
      "314432\n",
      "68\n",
      "328509\n",
      "343000\n",
      "70\n",
      "357911\n",
      "373248\n",
      "72\n",
      "389017\n",
      "405224\n",
      "421875\n",
      "75\n",
      "438976\n",
      "76\n",
      "456533\n",
      "474552\n",
      "493039\n",
      "512000\n",
      "80\n",
      "80\n",
      "531441\n",
      "551368\n",
      "571787\n",
      "592704\n",
      "84\n",
      "614125\n",
      "85\n",
      "636056\n",
      "658503\n",
      "681472\n",
      "88\n",
      "704969\n",
      "729000\n",
      "90\n",
      "753571\n",
      "778688\n",
      "92\n",
      "804357\n",
      "830584\n",
      "857375\n",
      "95\n",
      "884736\n",
      "96\n",
      "912673\n",
      "941192\n",
      "970299\n",
      "1000000\n",
      "100\n",
      "100\n"
     ]
    }
   ],
   "source": [
    "# for loop\n",
    "l1=[]\n",
    "l = [1,2,3,4,5,6,7,8,9,10,11,12,13,14,15,16,17,18,19,20,21,22,23,24,25,26,27,28,29,30,31,32,33,34,35,36,37,38,39,40,41,42,43,44,45,46,47,48,49,50,51,52,53,54,55,56,57,58,59,60,61,62,63,64,65,66,67,68,69,70,71,72,73,74,75,76,77,78,79,80,81,82,83,84,85,86,87,88,89,90,91,92,93,94,95,96,97,98,99,100]\n",
    "for i in l:\n",
    "    print(i**3)\n",
    "    if i % 4 == 0:\n",
    "        print(i)\n",
    "    if i % 5 == 0:\n",
    "            print(i)"
   ]
  },
  {
   "cell_type": "code",
   "execution_count": 30,
   "id": "ba75d8d2-ee76-4ff9-b81c-bc28f1f4a536",
   "metadata": {},
   "outputs": [
    {
     "name": "stdout",
     "output_type": "stream",
     "text": [
      "0\n",
      "1\n",
      "8\n",
      "27\n",
      "4\n",
      "64\n",
      "5\n",
      "125\n",
      "216\n",
      "343\n",
      "8\n",
      "512\n",
      "729\n",
      "10\n",
      "1000\n",
      "1331\n",
      "12\n",
      "1728\n",
      "2197\n",
      "2744\n",
      "15\n",
      "3375\n",
      "16\n",
      "4096\n",
      "4913\n",
      "5832\n",
      "6859\n",
      "20\n",
      "20\n",
      "8000\n",
      "9261\n",
      "10648\n",
      "12167\n",
      "24\n",
      "13824\n",
      "25\n",
      "15625\n",
      "17576\n",
      "19683\n",
      "28\n",
      "21952\n",
      "24389\n",
      "30\n",
      "27000\n",
      "29791\n",
      "32\n",
      "32768\n",
      "35937\n",
      "39304\n",
      "35\n",
      "42875\n",
      "36\n",
      "46656\n",
      "50653\n",
      "54872\n",
      "59319\n",
      "40\n",
      "40\n",
      "64000\n",
      "68921\n",
      "74088\n",
      "79507\n",
      "44\n",
      "85184\n",
      "45\n",
      "91125\n",
      "97336\n",
      "103823\n",
      "48\n",
      "110592\n",
      "117649\n",
      "50\n",
      "125000\n",
      "132651\n",
      "52\n",
      "140608\n",
      "148877\n",
      "157464\n",
      "55\n",
      "166375\n",
      "56\n",
      "175616\n",
      "185193\n",
      "195112\n",
      "205379\n",
      "60\n",
      "60\n",
      "216000\n",
      "226981\n",
      "238328\n",
      "250047\n",
      "64\n",
      "262144\n",
      "65\n",
      "274625\n",
      "287496\n",
      "300763\n",
      "68\n",
      "314432\n",
      "328509\n",
      "70\n",
      "343000\n",
      "357911\n",
      "72\n",
      "373248\n",
      "389017\n",
      "405224\n",
      "75\n",
      "421875\n",
      "76\n",
      "438976\n",
      "456533\n",
      "474552\n",
      "493039\n",
      "80\n",
      "80\n",
      "512000\n",
      "531441\n",
      "551368\n",
      "571787\n",
      "84\n",
      "592704\n",
      "85\n",
      "614125\n",
      "636056\n",
      "658503\n",
      "88\n",
      "681472\n",
      "704969\n",
      "90\n",
      "729000\n",
      "753571\n",
      "92\n",
      "778688\n",
      "804357\n",
      "830584\n",
      "95\n",
      "857375\n",
      "96\n",
      "884736\n",
      "912673\n",
      "941192\n",
      "970299\n",
      "100\n",
      "100\n",
      "1000000\n"
     ]
    }
   ],
   "source": [
    "# while loop\n",
    "i = 0\n",
    "while i <= 100:\n",
    "        print(i**3)\n",
    "        i = i + 1\n",
    "        if i % 4 == 0:\n",
    "            print(i)\n",
    "        if i % 5 == 0:\n",
    "            print(i)"
   ]
  },
  {
   "cell_type": "markdown",
   "id": "5bce9790-d2f1-4032-8723-9383fe027726",
   "metadata": {},
   "source": [
    "Q5. Write a program to filter count vowels in the below-given string.\n",
    "string = \"I want to become a data scientist\""
   ]
  },
  {
   "cell_type": "code",
   "execution_count": 62,
   "id": "0e870f9b-43f7-4c40-a8fb-b96f502d1335",
   "metadata": {},
   "outputs": [
    {
     "name": "stdout",
     "output_type": "stream",
     "text": [
      "total vowels = : 11\n"
     ]
    }
   ],
   "source": [
    "s = 'I want to become a data scientist'\n",
    "vowel = 0\n",
    "for i in range(0,len(s)):\n",
    "    if(s[i]!=''):\n",
    "        if(s[i]=='a' or s[i]=='e' or s[i]=='i' or s[i] == 'o' or s[i] == 'u'):\n",
    "            s[i]=='A' or s[i]=='E' or s[i]=='I' or s[i] == 'O' or s[i] == 'U'\n",
    "            \n",
    "            \n",
    "            vowel = vowel+1\n",
    "            \n",
    "print(\"total vowels = :\",vowel)"
   ]
  },
  {
   "cell_type": "code",
   "execution_count": null,
   "id": "db728670-6e64-4c0c-bf67-bcb423a9cc81",
   "metadata": {},
   "outputs": [],
   "source": []
  },
  {
   "cell_type": "code",
   "execution_count": null,
   "id": "a48af997-288c-4074-83e5-978e77c57257",
   "metadata": {},
   "outputs": [],
   "source": []
  }
 ],
 "metadata": {
  "kernelspec": {
   "display_name": "Python 3 (ipykernel)",
   "language": "python",
   "name": "python3"
  },
  "language_info": {
   "codemirror_mode": {
    "name": "ipython",
    "version": 3
   },
   "file_extension": ".py",
   "mimetype": "text/x-python",
   "name": "python",
   "nbconvert_exporter": "python",
   "pygments_lexer": "ipython3",
   "version": "3.10.8"
  }
 },
 "nbformat": 4,
 "nbformat_minor": 5
}
